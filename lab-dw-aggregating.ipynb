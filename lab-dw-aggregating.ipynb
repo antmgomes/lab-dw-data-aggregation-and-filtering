{
  "cells": [
    {
      "cell_type": "markdown",
      "id": "31969215-2a90-4d8b-ac36-646a7ae13744",
      "metadata": {
        "id": "31969215-2a90-4d8b-ac36-646a7ae13744"
      },
      "source": [
        "# Lab | Data Aggregation and Filtering"
      ]
    },
    {
      "cell_type": "markdown",
      "id": "a8f08a52-bec0-439b-99cc-11d3809d8b5d",
      "metadata": {
        "id": "a8f08a52-bec0-439b-99cc-11d3809d8b5d"
      },
      "source": [
        "In this challenge, we will continue to work with customer data from an insurance company. We will use the dataset called marketing_customer_analysis.csv, which can be found at the following link:\n",
        "\n",
        "https://raw.githubusercontent.com/data-bootcamp-v4/data/main/marketing_customer_analysis.csv\n",
        "\n",
        "This dataset contains information such as customer demographics, policy details, vehicle information, and the customer's response to the last marketing campaign. Our goal is to explore and analyze this data by first performing data cleaning, formatting, and structuring."
      ]
    },
    {
      "cell_type": "markdown",
      "id": "9c98ddc5-b041-4c94-ada1-4dfee5c98e50",
      "metadata": {
        "id": "9c98ddc5-b041-4c94-ada1-4dfee5c98e50"
      },
      "source": [
        "1. Create a new DataFrame that only includes customers who:\n",
        "   - have a **low total_claim_amount** (e.g., below $1,000),\n",
        "   - have a response \"Yes\" to the last marketing campaign."
      ]
    },
    {
      "cell_type": "markdown",
      "id": "b9be383e-5165-436e-80c8-57d4c757c8c3",
      "metadata": {
        "id": "b9be383e-5165-436e-80c8-57d4c757c8c3"
      },
      "source": [
        "2. Using the original Dataframe, analyze:\n",
        "   - the average `monthly_premium` and/or customer lifetime value by `policy_type` and `gender` for customers who responded \"Yes\", and\n",
        "   - compare these insights to `total_claim_amount` patterns, and discuss which segments appear most profitable or low-risk for the company."
      ]
    },
    {
      "cell_type": "markdown",
      "id": "7050f4ac-53c5-4193-a3c0-8699b87196f0",
      "metadata": {
        "id": "7050f4ac-53c5-4193-a3c0-8699b87196f0"
      },
      "source": [
        "3. Analyze the total number of customers who have policies in each state, and then filter the results to only include states where there are more than 500 customers."
      ]
    },
    {
      "cell_type": "markdown",
      "id": "b60a4443-a1a7-4bbf-b78e-9ccdf9895e0d",
      "metadata": {
        "id": "b60a4443-a1a7-4bbf-b78e-9ccdf9895e0d"
      },
      "source": [
        "4. Find the maximum, minimum, and median customer lifetime value by education level and gender. Write your conclusions."
      ]
    },
    {
      "cell_type": "markdown",
      "id": "b42999f9-311f-481e-ae63-40a5577072c5",
      "metadata": {
        "id": "b42999f9-311f-481e-ae63-40a5577072c5"
      },
      "source": [
        "## Bonus"
      ]
    },
    {
      "cell_type": "markdown",
      "id": "81ff02c5-6584-4f21-a358-b918697c6432",
      "metadata": {
        "id": "81ff02c5-6584-4f21-a358-b918697c6432"
      },
      "source": [
        "5. The marketing team wants to analyze the number of policies sold by state and month. Present the data in a table where the months are arranged as columns and the states are arranged as rows."
      ]
    },
    {
      "cell_type": "markdown",
      "id": "b6aec097-c633-4017-a125-e77a97259cda",
      "metadata": {
        "id": "b6aec097-c633-4017-a125-e77a97259cda"
      },
      "source": [
        "6.  Display a new DataFrame that contains the number of policies sold by month, by state, for the top 3 states with the highest number of policies sold.\n",
        "\n",
        "*Hint:*\n",
        "- *To accomplish this, you will first need to group the data by state and month, then count the number of policies sold for each group. Afterwards, you will need to sort the data by the count of policies sold in descending order.*\n",
        "- *Next, you will select the top 3 states with the highest number of policies sold.*\n",
        "- *Finally, you will create a new DataFrame that contains the number of policies sold by month for each of the top 3 states.*"
      ]
    },
    {
      "cell_type": "markdown",
      "id": "ba975b8a-a2cf-4fbf-9f59-ebc381767009",
      "metadata": {
        "id": "ba975b8a-a2cf-4fbf-9f59-ebc381767009"
      },
      "source": [
        "7. The marketing team wants to analyze the effect of different marketing channels on the customer response rate.\n",
        "\n",
        "Hint: You can use melt to unpivot the data and create a table that shows the customer response rate (those who responded \"Yes\") by marketing channel."
      ]
    },
    {
      "cell_type": "markdown",
      "id": "e4378d94-48fb-4850-a802-b1bc8f427b2d",
      "metadata": {
        "id": "e4378d94-48fb-4850-a802-b1bc8f427b2d"
      },
      "source": [
        "External Resources for Data Filtering: https://towardsdatascience.com/filtering-data-frames-in-pandas-b570b1f834b9"
      ]
    },
    {
      "cell_type": "code",
      "execution_count": null,
      "id": "449513f4-0459-46a0-a18d-9398d974c9ad",
      "metadata": {
        "id": "449513f4-0459-46a0-a18d-9398d974c9ad"
      },
      "outputs": [],
      "source": [
        "# your code goes here\n",
        "import pandas as pd\n",
        "\n",
        "df = pd.read_csv(\"https://raw.githubusercontent.com/data-bootcamp-v4/data/main/marketing_customer_analysis.csv\")\n",
        "df.head()\n",
        "\n"
      ]
    },
    {
      "cell_type": "code",
      "execution_count": null,
      "id": "db998b3d",
      "metadata": {},
      "outputs": [],
      "source": [
        "df.columns = df.columns.str.lower()\n",
        "\n",
        "df.columns = df.columns.str.replace(\" \", \"_\")\n",
        "\n",
        "df = df.drop(\"unnamed:_0\", axis = 1)"
      ]
    },
    {
      "cell_type": "code",
      "execution_count": null,
      "id": "e36e425b",
      "metadata": {},
      "outputs": [],
      "source": [
        "df.drop_duplicates(subset = [\"customer\"], inplace = True)"
      ]
    },
    {
      "cell_type": "code",
      "execution_count": null,
      "id": "579503e4",
      "metadata": {},
      "outputs": [],
      "source": [
        "df.duplicated().sum()"
      ]
    },
    {
      "cell_type": "code",
      "execution_count": null,
      "id": "81f91121",
      "metadata": {},
      "outputs": [],
      "source": [
        "df.isnull().sum()"
      ]
    },
    {
      "cell_type": "code",
      "execution_count": null,
      "id": "b492f159",
      "metadata": {},
      "outputs": [],
      "source": [
        "df[\"state\"].value_counts()"
      ]
    },
    {
      "cell_type": "code",
      "execution_count": null,
      "id": "b93581cc",
      "metadata": {},
      "outputs": [],
      "source": [
        "df['state'] = df['state'].fillna(df['state'].mode()[0])"
      ]
    },
    {
      "cell_type": "code",
      "execution_count": null,
      "id": "23dda840",
      "metadata": {},
      "outputs": [],
      "source": [
        "df[\"state\"].value_counts()"
      ]
    },
    {
      "cell_type": "code",
      "execution_count": null,
      "id": "d4100f7e",
      "metadata": {},
      "outputs": [],
      "source": [
        "df['response'] = df['response'].fillna(df['response'].mode()[0])\n",
        "df['vehicle_class'] = df['vehicle_class'].fillna(df['vehicle_class'].mode()[0])\n",
        "df['vehicle_size'] = df['vehicle_size'].fillna(df['vehicle_size'].mode()[0])\n",
        "\n",
        "df['months_since_last_claim'] = df['months_since_last_claim'].fillna(df['months_since_last_claim'].median())\n",
        "\n",
        "df['number_of_open_complaints'] = df['number_of_open_complaints'].fillna(0)\n",
        "\n",
        "df = df.dropna(subset = [\"vehicle_type\"])"
      ]
    },
    {
      "cell_type": "code",
      "execution_count": null,
      "id": "051109b5",
      "metadata": {},
      "outputs": [],
      "source": [
        "df.isnull().sum()"
      ]
    },
    {
      "cell_type": "code",
      "execution_count": null,
      "id": "e0ffda1c",
      "metadata": {},
      "outputs": [],
      "source": [
        "df[\"number_of_open_complaints\"] = df[\"number_of_open_complaints\"].astype(int)\n",
        "df[\"months_since_last_claim\"] = df[\"months_since_last_claim\"].astype(int)"
      ]
    },
    {
      "cell_type": "code",
      "execution_count": null,
      "id": "65633d50",
      "metadata": {},
      "outputs": [],
      "source": [
        "df.dtypes"
      ]
    },
    {
      "cell_type": "code",
      "execution_count": null,
      "id": "2c436343",
      "metadata": {},
      "outputs": [],
      "source": [
        "dfLow = df[(df['total_claim_amount'] < 1000) & (df['response'] == 'Yes')]\n",
        "dfLow.head()"
      ]
    },
    {
      "cell_type": "code",
      "execution_count": null,
      "id": "9da5b059",
      "metadata": {},
      "outputs": [],
      "source": [
        "dfYes = df[(df[\"response\"] == \"Yes\")]\n",
        "\n",
        "df_1 = dfYes.pivot_table(index=[\"policy_type\", \"gender\"], values=[\"monthly_premium_auto\", \"customer_lifetime_value\", \"total_claim_amount\"], aggfunc= \"mean\")\n",
        "\n",
        "df_1"
      ]
    },
    {
      "cell_type": "code",
      "execution_count": null,
      "id": "d0ba29b4",
      "metadata": {},
      "outputs": [],
      "source": [
        "#Males with Special Auto are the most profitable and low risk segment, showing high lifetime value and low claims. \n",
        "#Gender differences are small except in Special Auto."
      ]
    },
    {
      "cell_type": "code",
      "execution_count": null,
      "id": "a92df366",
      "metadata": {},
      "outputs": [],
      "source": [
        "dfStCounts = df[\"state\"].value_counts()\n",
        "\n",
        "dfBigSt = dfStCounts < 500\n",
        "\n",
        "dfBigSt"
      ]
    },
    {
      "cell_type": "code",
      "execution_count": null,
      "id": "d40e0a36",
      "metadata": {},
      "outputs": [],
      "source": [
        "df_2 = df.pivot_table(index = [\"education\", \"gender\"], values = \"customer_lifetime_value\", aggfunc = [\"max\", \"min\", \"median\"])\n",
        "df_2"
      ]
    },
    {
      "cell_type": "code",
      "execution_count": null,
      "id": "ca37e533",
      "metadata": {},
      "outputs": [],
      "source": [
        "#CLV varies widely within each education gender group, but medians are similar, which shows that gender has little impact. High School\n",
        "#or Below and Master's customers have the highest median CLVs, while Doctorates are lower. Education influences CLV more than gender."
      ]
    }
  ],
  "metadata": {
    "colab": {
      "provenance": []
    },
    "kernelspec": {
      "display_name": "Python 3 (ipykernel)",
      "language": "python",
      "name": "python3"
    },
    "language_info": {
      "codemirror_mode": {
        "name": "ipython",
        "version": 3
      },
      "file_extension": ".py",
      "mimetype": "text/x-python",
      "name": "python",
      "nbconvert_exporter": "python",
      "pygments_lexer": "ipython3",
      "version": "3.9.13"
    }
  },
  "nbformat": 4,
  "nbformat_minor": 5
}
